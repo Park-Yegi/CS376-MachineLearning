{
 "cells": [
  {
   "cell_type": "code",
   "execution_count": 3,
   "metadata": {},
   "outputs": [
    {
     "name": "stdout",
     "output_type": "stream",
     "text": [
      "Start data setting...\n",
      "Plotting price data\n",
      "End data setting\n"
     ]
    },
    {
     "data": {
      "image/png": "[encoded data removed]",
      "text/plain": [
       "<Figure size 432x288 with 1 Axes>"
      ]
     },
     "metadata": {
      "needs_background": "light"
     },
     "output_type": "display_data"
    }
   ],
   "source": [
    "import numpy as np  # Linear Algebra\n",
    "import pandas as pd # Data load and handle\n",
    "import matplotlib.pyplot as plt # Data plotting\n",
    "import seaborn as sns\n",
    "from scipy.stats import norm\n",
    "from sklearn.impute import SimpleImputer # Handle missing data\n",
    "# from sklearn.feature_extraction import DictVectorizer\n",
    "from xgboost import XGBClassifier \n",
    "from sklearn.svm import SVR\n",
    "from sklearn.ensemble import RandomForestRegressor\n",
    "from sklearn.pipeline import make_pipeline\n",
    "from sklearn.preprocessing import Imputer, StandardScaler\n",
    "from sklearn.model_selection import cross_val_score # K-fold cross validation\n",
    "from scipy import stats\n",
    "# import warnings\n",
    "# warnings.filterwarnings('ignore')\n",
    "\n",
    "# Name of columns\n",
    "col_names = ['contract_date', 'latitude', 'longitude', 'altitude', '1st_region_id', '2nd_region_id', 'road_id', 'apart_id', 'floor', 'angle', 'area', 'num_parking_lot', 'total_parking_lot', 'external_vehicle', 'manage_fee', 'num_household', 'resident_age', 'builder_id', 'completion_date', 'built_year', 'schools', 'bus_stations', 'subway_stations']\n",
    "# Load test data\n",
    "X_test = pd.read_csv('./data-term-project/data_test.csv', names = col_names)\n",
    "\n",
    "##### performance: (list-of-float, list-of-float) -> float #####\n",
    "##### To calculate performance training:validation = 5:1 ##########\n",
    "##### 1-abs((prediction-answer)/prediction)/40099 ##############\n",
    "def performance(y_validation, y_test):\n",
    "    y_validation_array = np.array(y_validation)\n",
    "    sum = 0\n",
    "    for i in range(40099):\n",
    "        sum += abs((y_validation_array[i] - y_test[i]) / y_validation_array[i])\n",
    "\n",
    "    accuracy = 1 - (sum/40099)\n",
    "    print(\"Performance is... %f\" % accuracy)\n",
    "    return accuracy\n",
    "\n",
    "\n",
    "##### data_setting: (empty) -> three matrix and three list-of-float #####\n",
    "##### To load training data, give column names, and split data into training data and validation data\n",
    "##### And handle missing data with SimpleImputer\n",
    "def data_setting():\n",
    "    data_train = pd.read_csv('./data-term-project/data_train.csv', names = col_names+['price'])\n",
    "    data_train['contract_date'] = pd.to_datetime(data_train['contract_date'])\n",
    "    data_train['completion_date'] = pd.to_datetime(data_train['completion_date'])\n",
    "    data_train['contract_year'] = data_train['contract_date'].dt.year\n",
    "    data_train['contract_month'] = data_train['contract_date'].dt.month\n",
    "    data_train['contract_day'] = data_train['contract_date'].dt.day\n",
    "    data_train['completion_year'] = data_train['completion_date'].dt.year\n",
    "    data_train['completion_month'] = data_train['completion_date'].dt.month\n",
    "    data_train['completion_day'] = data_train['completion_date'].dt.day\n",
    "    data_train = data_train.drop(columns=['contract_date', 'completion_date'])\n",
    "    print('Plotting price data')\n",
    "    sns.distplot(data_train['price'], hist=False, kde_kws={'clip': (0.0, 200000.0)})\n",
    "\n",
    "    imp = SimpleImputer(missing_values=np.nan, strategy='mean')\n",
    "    data_with_imputed_values = imp.fit_transform(data_train)\n",
    "    data_train = pd.DataFrame(data=data_with_imputed_values)\n",
    "    data_train.columns = ['latitude', 'longitude', 'altitude', '1st_region_id', '2nd_region_id', 'road_id', 'apart_id', 'floor', 'angle', 'area', 'num_parking_lot', 'total_parking_lot', 'external_vehicle', 'manage_fee', 'num_household', 'resident_age', 'builder_id', 'built_year', 'schools', 'bus_stations', 'subway_stations']+['price', 'contract_year', 'contract_month', 'contract_day', 'completion_year', 'completion_month', 'completion_day']\n",
    "    X_train = data_train.drop(columns=['price'])\n",
    "    y_train = data_train['price']\n",
    "    X_training = X_train[:200495][:]\n",
    "    y_training = y_train[:200495][:]\n",
    "    X_validation = X_train[200495:][:]\n",
    "    y_validation = y_train[200495:][:]\n",
    "    # print(X_training.head(5))\n",
    "    return X_train, y_train, X_training, y_training, X_validation, y_validation\n",
    "\n",
    "\n",
    "##### train_n_predict: (two matrices and one list-of-float) -> list-of-float #####\n",
    "##### To train the model with XGBoost and predict for validation data set\n",
    "def train_n_predict(X_training, y_training, X_validation):\n",
    "    # model = XGBClassifier(silent=False)\n",
    "    # print(\"Start training...\")\n",
    "    # model.fit(X_training, y_training)\n",
    "    # print(\"Start prediction...\")\n",
    "    # y_test = model.predict(X_validation)\n",
    "    # svr = SVR(kernel='rbf', C=1e3, gamma=0.1)\n",
    "    # print(\"Start training...\")\n",
    "    # y_test = svr.fit(X_training, y_training).predict(X_validation)\n",
    "    regr = RandomForestRegressor(max_depth=5, random_state=0, n_estimators=200)\n",
    "    regr.fit(X_training, y_training)\n",
    "    y_test = regr.predict(X_validation)\n",
    "    return y_test\n",
    "\n",
    "\n",
    "def main():\n",
    "    print(\"Start data setting...\")\n",
    "    X_train, y_train, X_training, y_training, X_validation, y_validation = data_setting()\n",
    "    print(\"End data setting\")\n",
    "    # my_pipeline = make_pipeline(Imputer(), RandomForestRegressor(max_depth=10))\n",
    "    # scores = cross_val_score(my_pipeline, X_train, y_train, scoring='neg_mean_squared_error', cv=6)\n",
    "    # print(\"6-fold cross validation score\")\n",
    "    # print(scores)\n",
    "    # y_test = train_n_predict(X_training, y_training, X_validation)\n",
    "    # print(\"End of training and prediction\")\n",
    "    # print(\"Start performance calculation\")\n",
    "    # performance(y_validation, y_test)\n",
    "\n",
    "\n",
    "if __name__ == \"__main__\":\n",
    "    main()\n"
   ]
  },
  {
   "cell_type": "code",
   "execution_count": null,
   "metadata": {},
   "outputs": [],
   "source": []
  }
 ],
 "metadata": {
  "kernelspec": {
   "display_name": "Python 3",
   "language": "python",
   "name": "python3"
  },
  "language_info": {
   "codemirror_mode": {
    "name": "ipython",
    "version": 3
   },
   "file_extension": ".py",
   "mimetype": "text/x-python",
   "name": "python",
   "nbconvert_exporter": "python",
   "pygments_lexer": "ipython3",
   "version": "3.7.0"
  }
 },
 "nbformat": 4,
 "nbformat_minor": 2
}
